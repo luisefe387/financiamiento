{
  "nbformat": 4,
  "nbformat_minor": 0,
  "metadata": {
    "colab": {
      "name": "Luis Fernando Pedroza Taborda - Algoritmos - AG1.ipynb",
      "provenance": [],
      "authorship_tag": "ABX9TyMS18x3avuothRg71exiHxn",
      "include_colab_link": true
    },
    "kernelspec": {
      "name": "python3",
      "display_name": "Python 3"
    }
  },
  "cells": [
    {
      "cell_type": "markdown",
      "metadata": {
        "id": "view-in-github",
        "colab_type": "text"
      },
      "source": [
        "<a href=\"https://colab.research.google.com/github/luisefe387/financiamiento/blob/master/Luis_Fernando_Pedroza_Taborda_Algoritmos_AG1.ipynb\" target=\"_parent\"><img src=\"https://colab.research.google.com/assets/colab-badge.svg\" alt=\"Open In Colab\"/></a>"
      ]
    },
    {
      "cell_type": "markdown",
      "metadata": {
        "id": "Mbd4zwnMtqfX"
      },
      "source": [
        "# Algoritmos - Actividad Guiada 1\r\n",
        "Nombre: Luis Fernando Pedroza Taborda <br>\r\n",
        "URL: https://colab.research.google.com/drive/17F4rjt5_uKuMOC1tI2R3oRR1Mg_W6hsu?usp=sharing"
      ]
    },
    {
      "cell_type": "markdown",
      "metadata": {
        "id": "n44C9GIBxS5g"
      },
      "source": [
        "# Torres de Hanoi con Divide y Vencerás"
      ]
    },
    {
      "cell_type": "code",
      "metadata": {
        "colab": {
          "base_uri": "https://localhost:8080/"
        },
        "id": "KTVvVYi4ub2v",
        "outputId": "1bbc5d30-6c81-4b9e-9cc0-d34d4e405ec9"
      },
      "source": [
        "def Torres_Hanoi(N, desde, hasta):\r\n",
        "  if N==1:\r\n",
        "    print(\"Lleva la ficha \", desde, \" hasta \", hasta )\r\n",
        "  else:\r\n",
        "    #Torres_Hanoi(N-1, desde, 6-desde-hasta)\r\n",
        "    Torres_Hanoi(N-1, desde, list({1,2,3}-{desde,hasta})[0])\r\n",
        "    print(\"Lleva la ficha \", desde, \" hasta \", hasta )\r\n",
        "    Torres_Hanoi(N-1, list({1,2,3}-{desde,hasta})[0], hasta)\r\n",
        "\r\n",
        "Torres_Hanoi(5,1,3)"
      ],
      "execution_count": 13,
      "outputs": [
        {
          "output_type": "stream",
          "text": [
            "Lleva la ficha  1  hasta  3\n",
            "Lleva la ficha  1  hasta  2\n",
            "Lleva la ficha  3  hasta  2\n",
            "Lleva la ficha  1  hasta  3\n",
            "Lleva la ficha  2  hasta  1\n",
            "Lleva la ficha  2  hasta  3\n",
            "Lleva la ficha  1  hasta  3\n",
            "Lleva la ficha  1  hasta  2\n",
            "Lleva la ficha  3  hasta  2\n",
            "Lleva la ficha  3  hasta  1\n",
            "Lleva la ficha  2  hasta  1\n",
            "Lleva la ficha  3  hasta  2\n",
            "Lleva la ficha  1  hasta  3\n",
            "Lleva la ficha  1  hasta  2\n",
            "Lleva la ficha  3  hasta  2\n",
            "Lleva la ficha  1  hasta  3\n",
            "Lleva la ficha  2  hasta  1\n",
            "Lleva la ficha  2  hasta  3\n",
            "Lleva la ficha  1  hasta  3\n",
            "Lleva la ficha  2  hasta  1\n",
            "Lleva la ficha  3  hasta  2\n",
            "Lleva la ficha  3  hasta  1\n",
            "Lleva la ficha  2  hasta  1\n",
            "Lleva la ficha  2  hasta  3\n",
            "Lleva la ficha  1  hasta  3\n",
            "Lleva la ficha  1  hasta  2\n",
            "Lleva la ficha  3  hasta  2\n",
            "Lleva la ficha  1  hasta  3\n",
            "Lleva la ficha  2  hasta  1\n",
            "Lleva la ficha  2  hasta  3\n",
            "Lleva la ficha  1  hasta  3\n"
          ],
          "name": "stdout"
        }
      ]
    },
    {
      "cell_type": "markdown",
      "metadata": {
        "id": "KC6mctJ76UXJ"
      },
      "source": [
        "## Devolucion de cambio por técnica voraz"
      ]
    },
    {
      "cell_type": "code",
      "metadata": {
        "colab": {
          "base_uri": "https://localhost:8080/"
        },
        "id": "FnrjOJci6d12",
        "outputId": "cf0e4be7-8746-4380-f631-d17a5b0be8ed"
      },
      "source": [
        "def cambio_monedas(N, SM):\r\n",
        "  SOLUCION = [0]*len(SM)  #SOLUXION = [0,0,0,0,..]\r\n",
        "  ValorAcumulado = 0\r\n",
        "\r\n",
        "  for i,valor in enumerate(SM):\r\n",
        "    monedas = (N-ValorAcumulado)//valor\r\n",
        "    SOLUCION[i] = monedas\r\n",
        "    ValorAcumulado = ValorAcumulado + monedas*valor\r\n",
        "\r\n",
        "    if ValorAcumulado == N:\r\n",
        "      return SOLUCION\r\n",
        "\r\n",
        "cambio_monedas(212121212,[100,25,10,5,1])"
      ],
      "execution_count": 14,
      "outputs": [
        {
          "output_type": "execute_result",
          "data": {
            "text/plain": [
              "[2121212, 0, 1, 0, 2]"
            ]
          },
          "metadata": {
            "tags": []
          },
          "execution_count": 14
        }
      ]
    },
    {
      "cell_type": "markdown",
      "metadata": {
        "id": "mNYEbeuZBFTx"
      },
      "source": [
        "## N-Reinas por técnica de vuelta "
      ]
    },
    {
      "cell_type": "code",
      "metadata": {
        "id": "aXu9EqgVBSuD",
        "colab": {
          "base_uri": "https://localhost:8080/"
        },
        "outputId": "470f32bc-d16d-42a7-82e9-feeefd1d32b4"
      },
      "source": [
        "def escribe(S):\r\n",
        "  n = len(S)\r\n",
        "\r\n",
        "  for x in range(n):\r\n",
        "    print(\"\")\r\n",
        "    for i in range(n):\r\n",
        "      if S[i] == x+1:\r\n",
        "        print(\" X \" , end=\"\")\r\n",
        "      else:\r\n",
        "        print(\" - \", end=\"\")\r\n",
        "\r\n",
        "\r\n",
        "def es_prometedora(SOLUCION,etapa):\r\n",
        "  #print(SOLUCION)\r\n",
        "  #Si la solución tiene dos valores iguales no es valida => Dos reinas en la misma fila\r\n",
        "  for i in range(etapa+1):\r\n",
        "    #print(\"El valor \" + str(SOLUCION[i]) + \" está \" +  str(SOLUCION.count(SOLUCION[i])) + \" veces\")\r\n",
        "    if SOLUCION.count(SOLUCION[i]) > 1:       \r\n",
        "      return False\r\n",
        "\r\n",
        "    #Verifica las diagonales\r\n",
        "    for j in range(i+1, etapa +1):\r\n",
        "      #print(\"Comprobando diagonal de \" + str(i) + \" y \" + str(j))\r\n",
        "      if abs(i-j) == abs(SOLUCION[i]-SOLUCION[j]) : \r\n",
        "        return False\r\n",
        "  return True\r\n",
        "\r\n",
        "def reinas(N, solucion = [], etapa = 0):\r\n",
        "  if len(solucion) == 0:\r\n",
        "    solucion = [0 for i in range(N)]\r\n",
        "\r\n",
        "  for i in range(1, N+1):\r\n",
        "    solucion[etapa] = i\r\n",
        "\r\n",
        "    if es_prometedora(solucion, etapa):\r\n",
        "      if etapa == N-1:\r\n",
        "        print(solucion)\r\n",
        "        escribe(solucion)\r\n",
        "        print()\r\n",
        "      else:\r\n",
        "        reinas(N, solucion, etapa+1)\r\n",
        "    else:\r\n",
        "      None\r\n",
        "    \r\n",
        "    solucion [etapa] = 0\r\n",
        "\r\n",
        "reinas(4)\r\n"
      ],
      "execution_count": 15,
      "outputs": [
        {
          "output_type": "stream",
          "text": [
            "[2, 4, 1, 3]\n",
            "\n",
            " -  -  X  - \n",
            " X  -  -  - \n",
            " -  -  -  X \n",
            " -  X  -  - \n",
            "[3, 1, 4, 2]\n",
            "\n",
            " -  X  -  - \n",
            " -  -  -  X \n",
            " X  -  -  - \n",
            " -  -  X  - \n"
          ],
          "name": "stdout"
        }
      ]
    }
  ]
}